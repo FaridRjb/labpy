{
 "cells": [
  {
   "cell_type": "code",
   "execution_count": 1,
   "id": "62b4b671-79b9-4e7b-a5d3-81e718312ca5",
   "metadata": {
    "tags": []
   },
   "outputs": [],
   "source": [
    "import numpy as np\n",
    "import sympy as sp"
   ]
  },
  {
   "cell_type": "code",
   "execution_count": 2,
   "id": "f2d0180a-14db-4e48-9a60-9d3291d6c6e2",
   "metadata": {
    "tags": []
   },
   "outputs": [],
   "source": [
    "x, dx, delta_x, y, dy, delta_y, a, b, c = sp.symbols('x, dx, \\Delta{x},\\\n",
    "y, dy, \\Delta{y}, a, b, c')"
   ]
  },
  {
   "cell_type": "code",
   "execution_count": 40,
   "id": "5dbe067b-aa86-4380-9afa-60904b1bb5f0",
   "metadata": {
    "tags": []
   },
   "outputs": [
    {
     "data": {
      "text/latex": [
       "$\\displaystyle \\frac{a x^{2} - y^{2}}{4 c x y}$"
      ],
      "text/plain": [
       "(a*x**2 - y**2)/(4*c*x*y)"
      ]
     },
     "execution_count": 40,
     "metadata": {},
     "output_type": "execute_result"
    }
   ],
   "source": [
    "f = (a * x**2 - y**2) / (4 * c * x * y)\n",
    "f"
   ]
  },
  {
   "cell_type": "code",
   "execution_count": 4,
   "id": "18876ae7-4108-4c41-83bc-4aa6e69fc2c0",
   "metadata": {
    "tags": []
   },
   "outputs": [
    {
     "data": {
      "text/latex": [
       "$\\displaystyle \\frac{4 c dx x y \\left(\\frac{a}{2 c y} - \\frac{a x^{2} - y^{2}}{4 c x^{2} y}\\right)}{a x^{2} - y^{2}}$"
      ],
      "text/plain": [
       "4*c*dx*x*y*(a/(2*c*y) - (a*x**2 - y**2)/(4*c*x**2*y))/(a*x**2 - y**2)"
      ]
     },
     "execution_count": 4,
     "metadata": {},
     "output_type": "execute_result"
    }
   ],
   "source": [
    "df_x = sp.diff(f, x) * dx\n",
    "df_x"
   ]
  },
  {
   "cell_type": "code",
   "execution_count": 5,
   "id": "c9d7b093-b919-4945-87f4-598efb12c6ca",
   "metadata": {
    "tags": []
   },
   "outputs": [
    {
     "data": {
      "text/latex": [
       "$\\displaystyle \\frac{4 c dy x y \\left(- \\frac{1}{2 c x} - \\frac{a x^{2} - y^{2}}{4 c x y^{2}}\\right)}{a x^{2} - y^{2}}$"
      ],
      "text/plain": [
       "4*c*dy*x*y*(-1/(2*c*x) - (a*x**2 - y**2)/(4*c*x*y**2))/(a*x**2 - y**2)"
      ]
     },
     "execution_count": 5,
     "metadata": {},
     "output_type": "execute_result"
    }
   ],
   "source": [
    "df_y = sp.diff(f, y) * dy\n",
    "df_y"
   ]
  },
  {
   "cell_type": "code",
   "execution_count": 6,
   "id": "d77c8c06-bb8a-4ffb-b880-ff4e1945dc79",
   "metadata": {
    "tags": []
   },
   "outputs": [
    {
     "data": {
      "text/latex": [
       "$\\displaystyle \\frac{4 c dx x y \\left(\\frac{a}{2 c y} - \\frac{a x^{2} - y^{2}}{4 c x^{2} y}\\right)}{a x^{2} - y^{2}} + \\frac{4 c dy x y \\left(- \\frac{1}{2 c x} - \\frac{a x^{2} - y^{2}}{4 c x y^{2}}\\right)}{a x^{2} - y^{2}}$"
      ],
      "text/plain": [
       "4*c*dx*x*y*(a/(2*c*y) - (a*x**2 - y**2)/(4*c*x**2*y))/(a*x**2 - y**2) + 4*c*dy*x*y*(-1/(2*c*x) - (a*x**2 - y**2)/(4*c*x*y**2))/(a*x**2 - y**2)"
      ]
     },
     "execution_count": 6,
     "metadata": {},
     "output_type": "execute_result"
    }
   ],
   "source": [
    "df_x + df_y"
   ]
  },
  {
   "cell_type": "code",
   "execution_count": null,
   "id": "d9fe2d93-3ad0-491f-8689-8e4c5f9fe07b",
   "metadata": {},
   "outputs": [],
   "source": []
  },
  {
   "cell_type": "code",
   "execution_count": 7,
   "id": "745d2606-9ef9-4c88-8520-851bfca43750",
   "metadata": {
    "tags": []
   },
   "outputs": [
    {
     "data": {
      "text/latex": [
       "$\\displaystyle \\frac{a dx x}{a x^{2} - y^{2}} + \\frac{dx y^{2}}{a x^{3} - x y^{2}}$"
      ],
      "text/plain": [
       "a*dx*x/(a*x**2 - y**2) + dx*y**2/(a*x**3 - x*y**2)"
      ]
     },
     "execution_count": 7,
     "metadata": {},
     "output_type": "execute_result"
    }
   ],
   "source": [
    "df_x.expand(x)"
   ]
  },
  {
   "cell_type": "code",
   "execution_count": 8,
   "id": "7e1d9858-5508-4366-9be1-50bd41f5aae0",
   "metadata": {
    "tags": []
   },
   "outputs": [
    {
     "data": {
      "text/latex": [
       "$\\displaystyle - \\frac{2 dy y}{a x^{2} - y^{2}} - \\frac{dy}{y}$"
      ],
      "text/plain": [
       "-2*dy*y/(a*x**2 - y**2) - dy/y"
      ]
     },
     "execution_count": 8,
     "metadata": {},
     "output_type": "execute_result"
    }
   ],
   "source": [
    "sp.apart(df_y, y)"
   ]
  },
  {
   "cell_type": "code",
   "execution_count": 9,
   "id": "0a27d37b-e58d-4679-8a57-f3dafc37db97",
   "metadata": {
    "tags": []
   },
   "outputs": [
    {
     "data": {
      "text/latex": [
       "$\\displaystyle - \\frac{a dy x^{2}}{a x^{2} y - y^{3}} - \\frac{dy y}{a x^{2} - y^{2}}$"
      ],
      "text/plain": [
       "-a*dy*x**2/(a*x**2*y - y**3) - dy*y/(a*x**2 - y**2)"
      ]
     },
     "execution_count": 9,
     "metadata": {},
     "output_type": "execute_result"
    }
   ],
   "source": [
    "sp.expand(df_y)"
   ]
  },
  {
   "cell_type": "code",
   "execution_count": 10,
   "id": "053713ec-9d02-4cae-a7cd-b8e88f6451a3",
   "metadata": {
    "tags": []
   },
   "outputs": [
    {
     "data": {
      "text/latex": [
       "$\\displaystyle \\frac{\\Delta{x} a x}{a x^{2} - y^{2}} + \\frac{\\Delta{x} y^{2}}{a x^{3} - x y^{2}} - \\frac{\\Delta{y} a x^{2}}{a x^{2} y - y^{3}} - \\frac{\\Delta{y} y}{a x^{2} - y^{2}}$"
      ],
      "text/plain": [
       "\\Delta{x}*a*x/(a*x**2 - y**2) + \\Delta{x}*y**2/(a*x**3 - x*y**2) - \\Delta{y}*a*x**2/(a*x**2*y - y**3) - \\Delta{y}*y/(a*x**2 - y**2)"
      ]
     },
     "execution_count": 10,
     "metadata": {},
     "output_type": "execute_result"
    }
   ],
   "source": [
    "(sp.expand(df_x, x) + sp.expand(df_y, y)).subs({dx : delta_x, dy : delta_y})"
   ]
  },
  {
   "cell_type": "code",
   "execution_count": 11,
   "id": "d78e651c-42c4-41ed-97dd-8be4f9503506",
   "metadata": {
    "tags": []
   },
   "outputs": [],
   "source": [
    "res = 0\n",
    "for i in _.args:\n",
    "    res += abs(i)"
   ]
  },
  {
   "cell_type": "code",
   "execution_count": 12,
   "id": "993add02-ca71-4c94-99e7-6e6ed822b4bd",
   "metadata": {
    "tags": []
   },
   "outputs": [
    {
     "data": {
      "text/latex": [
       "$\\displaystyle 0.563333333333333$"
      ],
      "text/plain": [
       "0.563333333333333"
      ]
     },
     "execution_count": 12,
     "metadata": {},
     "output_type": "execute_result"
    }
   ],
   "source": [
    "res.subs({delta_x : 0.5, delta_y : 0.1, x : 1, y : 5, a : 1, b : 2, c : 3})"
   ]
  },
  {
   "cell_type": "code",
   "execution_count": null,
   "id": "2d86668d-525f-4b9b-9cd6-65c40d3e65bf",
   "metadata": {
    "tags": []
   },
   "outputs": [],
   "source": []
  },
  {
   "cell_type": "code",
   "execution_count": 2,
   "id": "d58d3aa9-ed1d-48d0-a143-2f77edbd8d66",
   "metadata": {
    "tags": []
   },
   "outputs": [],
   "source": [
    "def my_func(f, err_vars):\n",
    "    '''\n",
    "    Parameters\n",
    "    ----------\n",
    "    f : sympy expression\n",
    "        Function f(x) that its error function is to be calculated.\n",
    "    variables : array_like\n",
    "        All variables in f(x) as sympy.Symbol.\n",
    "    err_vars : array_like\n",
    "        All variables that have error in f(x) as sympy.Symbol.\n",
    "    \n",
    "    Returns\n",
    "    -------\n",
    "    error : sympy.expression\n",
    "        Error function\n",
    "    '''\n",
    "    import sympy as sp\n",
    "    \n",
    "    vars_ = []\n",
    "    for var in err_vars:\n",
    "        var = sp.Symbol('\\Delta{' + var.name + '}')\n",
    "        vars_.append(var)\n",
    "    print(vars_)\n",
    "    \n",
    "    ln_f = sp.ln(f)\n",
    "    res, error = 0, 0\n",
    "    for var_i, var in enumerate(err_vars):\n",
    "        df_var = sp.diff(ln_f, var) * vars_[var_i]\n",
    "        res += sp.apart(df_var, var)\n",
    "    for term in res.args:\n",
    "        error += abs(term)\n",
    "    \n",
    "    error *= abs(f)\n",
    "    return error, vars_"
   ]
  },
  {
   "cell_type": "code",
   "execution_count": 9,
   "id": "a0798fee-c88f-4f4f-b4c6-dec29fbeba76",
   "metadata": {
    "tags": []
   },
   "outputs": [
    {
     "ename": "NameError",
     "evalue": "name 'x' is not defined",
     "output_type": "error",
     "traceback": [
      "\u001b[0;31m---------------------------------------------------------------------------\u001b[0m",
      "\u001b[0;31mNameError\u001b[0m                                 Traceback (most recent call last)",
      "Cell \u001b[0;32mIn[9], line 1\u001b[0m\n\u001b[0;32m----> 1\u001b[0m sol \u001b[38;5;241m=\u001b[39m my_func(f, [\u001b[43mx\u001b[49m, y, a, b, c], [x, y])\n\u001b[1;32m      2\u001b[0m sol\n",
      "\u001b[0;31mNameError\u001b[0m: name 'x' is not defined"
     ]
    }
   ],
   "source": [
    "sol = my_func(f, [x, y, a, b, c], [x, y])\n",
    "sol"
   ]
  },
  {
   "cell_type": "code",
   "execution_count": 49,
   "id": "a57d2a9d-c4a0-4f81-8231-0ec105df40a9",
   "metadata": {
    "tags": []
   },
   "outputs": [
    {
     "data": {
      "text/latex": [
       "$\\displaystyle 0.603333333333333$"
      ],
      "text/plain": [
       "0.603333333333333"
      ]
     },
     "execution_count": 49,
     "metadata": {},
     "output_type": "execute_result"
    }
   ],
   "source": [
    "sol.subs({delta_x : 0.5, delta_y : 0.1, x : 1, y : 5, a : 1, b : 2, c : 3})"
   ]
  },
  {
   "cell_type": "code",
   "execution_count": 50,
   "id": "fb9d9ed6-41c7-4d4f-a11f-90094ce8ae31",
   "metadata": {
    "tags": []
   },
   "outputs": [
    {
     "data": {
      "text/latex": [
       "$\\displaystyle 0.603333333333333$"
      ],
      "text/plain": [
       "0.603333333333333"
      ]
     },
     "execution_count": 50,
     "metadata": {},
     "output_type": "execute_result"
    }
   ],
   "source": [
    "sp.N(_)"
   ]
  },
  {
   "cell_type": "code",
   "execution_count": null,
   "id": "10d231a6-9698-4cc9-aa67-5d6d75d792c2",
   "metadata": {},
   "outputs": [],
   "source": []
  },
  {
   "cell_type": "code",
   "execution_count": null,
   "id": "60130dff-c2f8-4be1-80a6-c1fd6bdaba4d",
   "metadata": {},
   "outputs": [],
   "source": []
  },
  {
   "cell_type": "code",
   "execution_count": null,
   "id": "9d37e22f-05a5-48e2-af28-dcd6e4ad7019",
   "metadata": {},
   "outputs": [],
   "source": []
  },
  {
   "cell_type": "code",
   "execution_count": null,
   "id": "94943f07-7f9d-49dc-8f5f-6c21fea1a731",
   "metadata": {},
   "outputs": [],
   "source": []
  },
  {
   "cell_type": "code",
   "execution_count": 3,
   "id": "d69ec329-d70f-4990-95b4-c4149f485947",
   "metadata": {
    "tags": []
   },
   "outputs": [],
   "source": [
    "R, V, e = sp.symbols('R, V, e')"
   ]
  },
  {
   "cell_type": "code",
   "execution_count": 4,
   "id": "39c1445c-2c23-4186-94e0-e737072df2f2",
   "metadata": {
    "tags": []
   },
   "outputs": [
    {
     "data": {
      "text/latex": [
       "$\\displaystyle \\frac{R V}{- V + e}$"
      ],
      "text/plain": [
       "R*V/(-V + e)"
      ]
     },
     "execution_count": 4,
     "metadata": {},
     "output_type": "execute_result"
    }
   ],
   "source": [
    "f = (R * V) / (e - V)\n",
    "f"
   ]
  },
  {
   "cell_type": "code",
   "execution_count": 6,
   "id": "da58ec23-8509-42cc-86c6-d0ae370dbff3",
   "metadata": {
    "tags": []
   },
   "outputs": [
    {
     "name": "stdout",
     "output_type": "stream",
     "text": [
      "[\\Delta{R}, \\Delta{V}, \\Delta{e}]\n"
     ]
    },
    {
     "data": {
      "text/latex": [
       "$\\displaystyle \\left(\\left|{\\frac{\\Delta{R}}{R}}\\right| + \\left|{\\frac{\\Delta{V}}{V}}\\right| + \\left|{\\frac{\\Delta{V}}{V - e}}\\right| + \\left|{\\frac{\\Delta{e}}{V - e}}\\right|\\right) \\left|{\\frac{R V}{V - e}}\\right|$"
      ],
      "text/plain": [
       "(Abs(\\Delta{R}/R) + Abs(\\Delta{V}/V) + Abs(\\Delta{V}/(V - e)) + Abs(\\Delta{e}/(V - e)))*Abs(R*V/(V - e))"
      ]
     },
     "execution_count": 6,
     "metadata": {},
     "output_type": "execute_result"
    }
   ],
   "source": [
    "sol = my_func(f, [R, V, e])\n",
    "sol[0]"
   ]
  },
  {
   "cell_type": "code",
   "execution_count": 7,
   "id": "ec4f46ef-c81b-4a53-bf63-a005b831056a",
   "metadata": {
    "tags": []
   },
   "outputs": [
    {
     "data": {
      "text/latex": [
       "$\\displaystyle 154677.296507635$"
      ],
      "text/plain": [
       "154677.296507635"
      ]
     },
     "execution_count": 7,
     "metadata": {},
     "output_type": "execute_result"
    }
   ],
   "source": [
    "sol[0].subs({sol[1][0] : 0.01e7, R : 1e7,\\\n",
    "         sol[1][1] : 0.01, V : 5.73,\\\n",
    "         sol[1][2] : 0.01, e : 11.39})"
   ]
  },
  {
   "cell_type": "code",
   "execution_count": 8,
   "id": "56a0f42f-d4d5-4167-88a6-6124b3d63718",
   "metadata": {},
   "outputs": [
    {
     "name": "stdout",
     "output_type": "stream",
     "text": [
      "Help on function my_func in module __main__:\n",
      "\n",
      "my_func(f, err_vars)\n",
      "    Parameters\n",
      "    ----------\n",
      "    f : sympy expression\n",
      "        Function f(x) that its error function is to be calculated.\n",
      "    variables : array_like\n",
      "        All variables in f(x) as sympy.Symbol.\n",
      "    err_vars : array_like\n",
      "        All variables that have error in f(x) as sympy.Symbol.\n",
      "    \n",
      "    Returns\n",
      "    -------\n",
      "    error : sympy.expression\n",
      "        Error function\n",
      "\n"
     ]
    }
   ],
   "source": [
    "help(my_func)"
   ]
  },
  {
   "cell_type": "code",
   "execution_count": null,
   "id": "69c3bc5a-1b06-4254-acbe-a97e4f251030",
   "metadata": {},
   "outputs": [],
   "source": []
  }
 ],
 "metadata": {
  "kernelspec": {
   "display_name": "Python 3 (ipykernel)",
   "language": "python",
   "name": "python3"
  },
  "language_info": {
   "codemirror_mode": {
    "name": "ipython",
    "version": 3
   },
   "file_extension": ".py",
   "mimetype": "text/x-python",
   "name": "python",
   "nbconvert_exporter": "python",
   "pygments_lexer": "ipython3",
   "version": "3.10.6"
  }
 },
 "nbformat": 4,
 "nbformat_minor": 5
}
