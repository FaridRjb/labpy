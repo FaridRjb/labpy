{
 "cells": [
  {
   "cell_type": "code",
   "execution_count": 1,
   "id": "90869cef-6000-4692-b35e-b3f603e8dd55",
   "metadata": {
    "tags": []
   },
   "outputs": [],
   "source": [
    "import sympy as sp\n",
    "import labpy as lp"
   ]
  },
  {
   "cell_type": "code",
   "execution_count": 2,
   "id": "d69ec329-d70f-4990-95b4-c4149f485947",
   "metadata": {
    "tags": []
   },
   "outputs": [
    {
     "data": {
      "text/latex": [
       "$\\displaystyle \\frac{R V}{- V + e}$"
      ],
      "text/plain": [
       "R*V/(-V + e)"
      ]
     },
     "execution_count": 2,
     "metadata": {},
     "output_type": "execute_result"
    }
   ],
   "source": [
    "R, V, e = sp.symbols('R, V, e')\n",
    "\n",
    "f = (R * V) / (e - V)\n",
    "f"
   ]
  },
  {
   "cell_type": "code",
   "execution_count": 4,
   "id": "da58ec23-8509-42cc-86c6-d0ae370dbff3",
   "metadata": {
    "tags": []
   },
   "outputs": [
    {
     "name": "stdout",
     "output_type": "stream",
     "text": [
      "[\\Delta{R}, \\Delta{V}, \\Delta{e}]\n"
     ]
    },
    {
     "data": {
      "text/latex": [
       "$\\displaystyle \\left(\\left|{\\frac{\\Delta{R}}{R}}\\right| + \\left|{\\frac{\\Delta{V}}{V}}\\right| + \\left|{\\frac{\\Delta{V}}{V - e}}\\right| + \\left|{\\frac{\\Delta{e}}{V - e}}\\right|\\right) \\left|{\\frac{R V}{V - e}}\\right|$"
      ],
      "text/plain": [
       "(Abs(\\Delta{R}/R) + Abs(\\Delta{V}/V) + Abs(\\Delta{V}/(V - e)) + Abs(\\Delta{e}/(V - e)))*Abs(R*V/(V - e))"
      ]
     },
     "execution_count": 4,
     "metadata": {},
     "output_type": "execute_result"
    }
   ],
   "source": [
    "sol = lp.err_func(f, [R, V, e])\n",
    "sol[0]"
   ]
  },
  {
   "cell_type": "code",
   "execution_count": 5,
   "id": "47ea2587-ff20-441e-9f84-48cbc57fd1c2",
   "metadata": {},
   "outputs": [
    {
     "data": {
      "text/plain": [
       "[\\Delta{R}, \\Delta{V}, \\Delta{e}]"
      ]
     },
     "execution_count": 5,
     "metadata": {},
     "output_type": "execute_result"
    }
   ],
   "source": [
    "sol[1]"
   ]
  },
  {
   "cell_type": "code",
   "execution_count": 6,
   "id": "ec4f46ef-c81b-4a53-bf63-a005b831056a",
   "metadata": {
    "tags": []
   },
   "outputs": [
    {
     "data": {
      "text/latex": [
       "$\\displaystyle 154677.296507635$"
      ],
      "text/plain": [
       "154677.296507635"
      ]
     },
     "execution_count": 6,
     "metadata": {},
     "output_type": "execute_result"
    }
   ],
   "source": [
    "sol[0].subs({sol[1][0] : 0.01e7, R : 1e7,\\\n",
    "             sol[1][1] : 0.01,   V : 5.73,\\\n",
    "             sol[1][2] : 0.01,   e : 11.39})"
   ]
  },
  {
   "cell_type": "code",
   "execution_count": null,
   "id": "5d1bf42e-b934-4661-bd4c-f22850e9218a",
   "metadata": {},
   "outputs": [],
   "source": []
  }
 ],
 "metadata": {
  "kernelspec": {
   "display_name": "Python 3 (ipykernel)",
   "language": "python",
   "name": "python3"
  },
  "language_info": {
   "codemirror_mode": {
    "name": "ipython",
    "version": 3
   },
   "file_extension": ".py",
   "mimetype": "text/x-python",
   "name": "python",
   "nbconvert_exporter": "python",
   "pygments_lexer": "ipython3",
   "version": "3.10.6"
  }
 },
 "nbformat": 4,
 "nbformat_minor": 5
}
